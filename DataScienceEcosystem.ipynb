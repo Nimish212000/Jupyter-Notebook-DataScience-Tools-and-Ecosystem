{
 "cells": [
  {
   "cell_type": "markdown",
   "id": "7838fb1f-2b51-4689-b673-3f85a7762672",
   "metadata": {},
   "source": [
    "# Data Science Tools and Ecosystem"
   ]
  },
  {
   "cell_type": "markdown",
   "id": "7c8c1646-6c77-4345-88f0-e821a344a7f6",
   "metadata": {},
   "source": [
    "#### In this notebook, Data Science Tools and Ecosystem are summarized."
   ]
  },
  {
   "cell_type": "markdown",
   "id": "0d747111-45c7-44a4-8d97-db0fe648cd21",
   "metadata": {},
   "source": [
    "**Objectives:**\n",
    "\n",
    "* Python\n",
    "* R\n",
    "* Java"
   ]
  },
  {
   "cell_type": "markdown",
   "id": "b922c8a2-f40b-4bfb-908c-e2085049b819",
   "metadata": {},
   "source": [
    "##### Some of the popular languages that Data Scientists use are:\n",
    "1. Python\n",
    "2. Java\n",
    "3. R\n",
    "4. SQL"
   ]
  },
  {
   "cell_type": "markdown",
   "id": "1ad012f0-77bc-41cf-9cdf-1f4f7b899244",
   "metadata": {},
   "source": [
    "##### Some of the commonly used libraries used by Data Scientists include:\n",
    "1. Matplotlib\n",
    "2. Scikit-learn\n",
    "3. Numpy\n",
    "4. Pandas\n",
    "5. Keras"
   ]
  },
  {
   "cell_type": "markdown",
   "id": "78c97b24-bc79-45f0-9216-58e1560b0ab7",
   "metadata": {},
   "source": [
    "| Data Science Tools|\n",
    "|-------------------|\n",
    "| 1. Jupyter Notebook|\n",
    "| 2. R Studio |\n",
    "| 3. SQL |\n"
   ]
  },
  {
   "cell_type": "markdown",
   "id": "be16f692-9dc8-43b7-ae6c-6735515727a9",
   "metadata": {},
   "source": [
    "### Below are a few examples of evaluating arithmetic expressions in Python"
   ]
  },
  {
   "cell_type": "code",
   "execution_count": 2,
   "id": "d601a979-7e1b-434f-8af1-d42729e55442",
   "metadata": {},
   "outputs": [
    {
     "data": {
      "text/plain": [
       "17"
      ]
     },
     "execution_count": 2,
     "metadata": {},
     "output_type": "execute_result"
    }
   ],
   "source": [
    "#This a simple arithmetic expression to multiply then add integers\n",
    "(3*4)+5"
   ]
  },
  {
   "cell_type": "code",
   "execution_count": 3,
   "id": "3cc1acc8-21e9-494a-9ff9-84d9ee321876",
   "metadata": {},
   "outputs": [
    {
     "data": {
      "text/plain": [
       "3.3333333333333335"
      ]
     },
     "execution_count": 3,
     "metadata": {},
     "output_type": "execute_result"
    }
   ],
   "source": [
    "#This will convert 200 minutes to hours by diving by 60\n",
    "200/60"
   ]
  },
  {
   "cell_type": "markdown",
   "id": "e7082f3c-a33c-4541-a9ae-95eff3d88de1",
   "metadata": {},
   "source": [
    "## Author\n",
    "Nimish"
   ]
  },
  {
   "cell_type": "code",
   "execution_count": null,
   "id": "a633ab6f-3fb4-49f7-9b45-5149334e18f8",
   "metadata": {},
   "outputs": [],
   "source": []
  }
 ],
 "metadata": {
  "kernelspec": {
   "display_name": "Python 3 (ipykernel)",
   "language": "python",
   "name": "python3"
  },
  "language_info": {
   "codemirror_mode": {
    "name": "ipython",
    "version": 3
   },
   "file_extension": ".py",
   "mimetype": "text/x-python",
   "name": "python",
   "nbconvert_exporter": "python",
   "pygments_lexer": "ipython3",
   "version": "3.11.7"
  }
 },
 "nbformat": 4,
 "nbformat_minor": 5
}
